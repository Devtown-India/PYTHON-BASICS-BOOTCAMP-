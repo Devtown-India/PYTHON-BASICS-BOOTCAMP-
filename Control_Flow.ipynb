{
  "nbformat": 4,
  "nbformat_minor": 0,
  "metadata": {
    "colab": {
      "name": "Control_Flow.ipynb",
      "provenance": []
    },
    "kernelspec": {
      "name": "python3",
      "display_name": "Python 3"
    }
  },
  "cells": [
    {
      "cell_type": "markdown",
      "metadata": {
        "id": "ehvmN7Yq2_j2"
      },
      "source": [
        "# **Control Flow:**\n",
        "Welcome to this lesson on Control Flow! Control flow is the sequence in which your code is run helping you in decision making. Here, we'll learn about several tools in Python we can use to affect our code's control flow:\n",
        "\n",
        "* Conditional Statements\n",
        "* Boolean Expressions\n",
        "* For and While Loops\n",
        "* Break and Continue\n"
      ]
    },
    {
      "cell_type": "markdown",
      "metadata": {
        "id": "Ih5lvgbH7_bF"
      },
      "source": [
        "## **Conditional If Statements:**\n",
        "\n",
        "Sometimes we need to run a line of code only if a particular condition is true.\n",
        "For example suppose that you have subscribed to a sharebike rental service.\n",
        "\n",
        "Lets look at its pay as you use billing system. The app contains a credit balance which then the user can use to rent the bikes.\n",
        "\n",
        "The customer can then setup a link to their bank account so that if their phone credit balance goes below a particular threshold amountm, in this case Rs.100, then Rs.500 in credit is then added from their bank account.\n",
        "\n",
        "this can be represented as in below:\n",
        "\n",
        "```\n",
        "if bikeapp_balance < 100:\n",
        "  bikeapp_balance += 500\n",
        "  bank_balance -= 500\n",
        "```"
      ]
    },
    {
      "cell_type": "code",
      "metadata": {
        "id": "ynX7uFME4aq_",
        "colab": {
          "base_uri": "https://localhost:8080/"
        },
        "outputId": "75790acc-d43e-479a-da28-066695d9585e"
      },
      "source": [
        "bikeapp_balance = 99\n",
        "bank_balance = 1000\n",
        "\n",
        "print(bikeapp_balance, bank_balance)\n",
        "\n",
        "if(bikeapp_balance<100):\n",
        "  bikeapp_balance += 500\n",
        "  bank_balance -= 500\n",
        "\n",
        "print(bikeapp_balance, bank_balance)"
      ],
      "execution_count": null,
      "outputs": [
        {
          "output_type": "stream",
          "text": [
            "99 1000\n",
            "599 500\n"
          ],
          "name": "stdout"
        }
      ]
    },
    {
      "cell_type": "markdown",
      "metadata": {
        "id": "DP_isfUUtHw3"
      },
      "source": [
        "- An *if* statement starts with the *if* keyword, followed by the condition to be checked, in this case *bikeapp_balance* < 100, and then a colon. The condition is specified in a boolean expression that evaluates to either *True* or *False*.\n",
        "\n",
        "- After this line is an indented block of code to be executed if that condition is true. Here, the lines that increment *bikeapp_balance* and decrement *bank_balance* only execute if it is true that *bikeapp_balance* is less than 100. If not, the code in this if block is simply skipped."
      ]
    },
    {
      "cell_type": "markdown",
      "metadata": {
        "id": "8SoDevOntowm"
      },
      "source": [
        "> You have learned about Python's comparison operators (e.g. == and !=) and how they are different from assignment operators (e.g. =). In conditional statements, you want to use comparison operators. For example, you'd want to use if x == 5 rather than if x = 5. If your conditional statement is causing a syntax error or doing something unexpected, check whether you have written == or =!"
      ]
    },
    {
      "cell_type": "markdown",
      "metadata": {
        "id": "N7kP8ymfuZs0"
      },
      "source": [
        "## **Conditional If Else Statements:**\n",
        "\n",
        "Else helps us to execute a diffrent block of code when a particular condition is not true or even for multiple other conditions diffrent from the *if()* condition.\n",
        "\n",
        "Lets see it in action using an example:"
      ]
    },
    {
      "cell_type": "code",
      "metadata": {
        "id": "S-CVWAwWtAvB",
        "colab": {
          "base_uri": "https://localhost:8080/"
        },
        "outputId": "e1999af9-acb4-4b29-f4b4-b902b90b1a34"
      },
      "source": [
        "n=4\n",
        "\n",
        "if (n%2 == 0):\n",
        "  print(\"Number \" + str(n) + \" is even.\")\n",
        "else:\n",
        "  print(\"Number \" + str(n) + \" is odd.\")"
      ],
      "execution_count": null,
      "outputs": [
        {
          "output_type": "stream",
          "text": [
            "Number 4 is even.\n"
          ],
          "name": "stdout"
        }
      ]
    },
    {
      "cell_type": "markdown",
      "metadata": {
        "id": "X6edLDaNzBuz"
      },
      "source": [
        "> if you have more than 2 possible cases then you can also use *elif()*. Lets look at an example:\n"
      ]
    },
    {
      "cell_type": "code",
      "metadata": {
        "id": "sMucuIQdv8YW",
        "colab": {
          "base_uri": "https://localhost:8080/"
        },
        "outputId": "1fe0b985-9201-4ec2-b0d1-53b7fa31099d"
      },
      "source": [
        "season = 'fall'\n",
        "\n",
        "if season == 'spring':\n",
        "    print('plant the garden!')\n",
        "elif season == 'summer':\n",
        "    print('water the garden!')\n",
        "elif season == 'fall':\n",
        "    print('harvest the garden!')\n",
        "elif season == 'winter':\n",
        "    print('stay indoors!')\n",
        "else:\n",
        "    print('unrecognized season')"
      ],
      "execution_count": null,
      "outputs": [
        {
          "output_type": "stream",
          "text": [
            "harvest the garden!\n"
          ],
          "name": "stdout"
        }
      ]
    },
    {
      "cell_type": "markdown",
      "metadata": {
        "id": "vgGEoCCIzesU"
      },
      "source": [
        "### **Summarize If, Elif, Else:**\n",
        "\n",
        "1. **if:** An *if* statement must always start with an *if* clause, which contains the first condition that is checked. If this evaluates to *True*, Python runs the code indented in this *if* block and then skips to the rest of the code after the *if* statement.\n",
        "\n",
        "2. **elif:** *elif* is short for \"else if.\" An *elif* clause is used to check for an additional condition if the conditions in the previous clauses in the *if* statement evaluate to *False*. As you can see in the example, you can have multiple *elif* blocks to handle different situations.\n",
        "\n",
        "3. **else:** Last is the *else* clause, which must come at the end of an *if* statement if used. This clause doesn't require a condition. The code in an else block is run if all conditions above that in the *if* statement evaluate to *False*."
      ]
    },
    {
      "cell_type": "markdown",
      "metadata": {
        "id": "Z1pisLR01GNq"
      },
      "source": [
        "## **Ouestion**:\n",
        "\n",
        "Write an if statement that lets a student know which of these grades they got based on the number they got in exams, which is stored in the integer variable *marks*.\n",
        "\n",
        "Marks -> Grade\n",
        "\n",
        "100-90 -> A+\n",
        "\n",
        "90-80 -> A\n",
        "\n",
        "80-70 -> B\n",
        "\n",
        "70-60 -> C\n",
        "\n",
        "60-50 -> D\n",
        "\n",
        "50-40 -> E\n",
        "\n",
        "<40 -> F\n",
        "\n",
        "> All of the lower and upper bounds here are inclusive, and marks can only take on positive integer values up to 100.\n",
        "\n",
        "In your if statement, assign the result variable to a string holding the appropriate message based on the value of marks.\n",
        "\n",
        "\"you have scored *[Grade]* Grade.\""
      ]
    },
    {
      "cell_type": "code",
      "metadata": {
        "id": "2wdJN8S3zVMh"
      },
      "source": [
        "marks = 60  # use this input to make your submission\n",
        "\n",
        "# write your if statement here\n",
        "\n",
        "\n",
        "print(result)"
      ],
      "execution_count": null,
      "outputs": []
    },
    {
      "cell_type": "markdown",
      "metadata": {
        "id": "ugIlhL7m3zXD"
      },
      "source": [
        "## **Question:**\n",
        "\n",
        "Depending on where an individual is from we need to tax them appropriately. The states of CA, MN, and NY have taxes of 7.5%, 9.5%, and 8.9% respectively. Use this information to take the amount of a purchase and the corresponding state to assure that they are taxed by the right amount."
      ]
    },
    {
      "cell_type": "code",
      "metadata": {
        "id": "1mGkeGw536hm"
      },
      "source": [
        "state = #Either CA, MN, or NY\n",
        "purchase_amount = #amount of purchase\n",
        "\n",
        "if #provide conditional for checking state is CA\n",
        "    tax_amount = .075\n",
        "    total_cost = purchase_amount*(1+tax_amount)\n",
        "    result = \"Since you're from {}, your total cost is {}.\".format(state, total_cost)\n",
        "\n",
        "elif #provide conditional for checking state is MN\n",
        "    tax_amount = .095\n",
        "    total_cost = purchase_amount*(1+tax_amount)\n",
        "    result = \"Since you're from {}, your total cost is {}.\".format(state, total_cost)\n",
        "\n",
        "elif #provide conditional for checking state is NY\n",
        "    tax_amount = .089\n",
        "    total_cost = purchase_amount*(1+tax_amount)\n",
        "    result = \"Since you're from {}, your total cost is {}.\".format(state, total_cost)\n",
        "\n",
        "print(result)"
      ],
      "execution_count": null,
      "outputs": []
    },
    {
      "cell_type": "markdown",
      "metadata": {
        "id": "qYBnISVTzrcg"
      },
      "source": [
        "## **For Loops:**\n",
        "\n",
        "Python has two kinds of loops - for loops and while loops. A for loop is used to \"iterate\", or do something repeatedly, over an iterable.\n",
        "\n",
        "An iterable is an object that can return one of its elements at a time. This can include sequence types, such as strings, lists, and tuples, as well as non-sequence types, such as dictionaries and files.\n",
        "\n",
        "Example:"
      ]
    },
    {
      "cell_type": "code",
      "metadata": {
        "id": "Uklx-pvdG90s",
        "colab": {
          "base_uri": "https://localhost:8080/",
          "height": 102
        },
        "outputId": "34869d0c-e095-48e7-827e-3c77eada7cc2"
      },
      "source": [
        "cities = ['new york city', 'mountain view', 'chicago', 'los angeles']\n",
        "for city in cities:\n",
        "    print(city)\n",
        "print(\"Done!\")"
      ],
      "execution_count": null,
      "outputs": [
        {
          "output_type": "stream",
          "text": [
            "new york city\n",
            "mountain view\n",
            "chicago\n",
            "los angeles\n",
            "Done!\n"
          ],
          "name": "stdout"
        }
      ]
    },
    {
      "cell_type": "markdown",
      "metadata": {
        "id": "quErSmRaHEol"
      },
      "source": [
        "### **Components of a for Loop:**\n",
        "1. The first line of the loop starts with the *for* keyword, which signals that this is a *for* loop\n",
        "2. Following that is *city in cities*, indicating *city* is the iteration variable, and *cities* is the iterable being looped over. In the first iteration of the loop, *city* gets the value of the first element in *cities*, which is “new york city”.\n",
        "3. The *for* loop heading line always ends with a colon *:*\n",
        "4. Following the *for* loop heading is an indented block of code, the body of the loop, to be executed in each iteration of this loop. There is only one line in the body of this loop - *print(city)*.\n",
        "5. After the body of the loop has executed, we don't move on to the next line yet; we go back to the for heading line, where the iteration variable takes the value of the next element of the iterable. In the second iteration of the loop above, *city* takes the value of the next element in *cities*, which is \"mountain view\".\n",
        "6. This process repeats until the loop has iterated through all the elements of the iterable. Then, we move on to the line that follows the body of the loop - in this case, *print(\"Done!\")*. We can tell what the next line after the body of the loop is because it is unindented. Here is another reason why paying attention to your indentation is very important in Python!"
      ]
    },
    {
      "cell_type": "markdown",
      "metadata": {
        "id": "LkPeOdqhHt-S"
      },
      "source": [
        "> You can name iteration variables however you like. A common pattern is to give the iteration variable and iterable the same names, except the singular and plural versions respectively (e.g., 'city' and 'cities')."
      ]
    },
    {
      "cell_type": "markdown",
      "metadata": {
        "id": "EzjgTy3oJo9U"
      },
      "source": [
        "## **Using the *range()* Function with for Loops:**\n",
        "*range()* is a built-in function used to create an iterable sequence of numbers. You will frequently use *range()* with a for loop to repeat an action a certain number of times, as in this example:\n",
        "\n"
      ]
    },
    {
      "cell_type": "code",
      "metadata": {
        "id": "ZufzUKnLG_49",
        "colab": {
          "base_uri": "https://localhost:8080/",
          "height": 68
        },
        "outputId": "20eff6c2-c891-4538-f26f-cfab5835800b"
      },
      "source": [
        "for i in range(3):\n",
        "    print(\"Hello!\")"
      ],
      "execution_count": null,
      "outputs": [
        {
          "output_type": "stream",
          "text": [
            "Hello!\n",
            "Hello!\n",
            "Hello!\n"
          ],
          "name": "stdout"
        }
      ]
    },
    {
      "cell_type": "markdown",
      "metadata": {
        "id": "bAycHJdLM2fZ"
      },
      "source": [
        "## **range(start=0, stop, step=1)**\n",
        "The range() function takes three integer arguments, the first and third of which are optional:\n",
        "\n",
        "- The 'start' argument is the first number of the sequence. If unspecified, 'start' defaults to 0.\n",
        "- The 'stop' argument is 1 more than the last number of the sequence. This argument must be specified.\n",
        "- The 'step' argument is the difference between each number in the sequence. If unspecified, 'step' defaults to 1.\n",
        "\n",
        "\n",
        "Notes on using range():\n",
        "\n",
        "- If you specify one integer inside the parentheses withrange(), it's used as the value for 'stop,' and the defaults are used for the other two. Example-"
      ]
    },
    {
      "cell_type": "code",
      "metadata": {
        "id": "bCyOEET0LKEV",
        "colab": {
          "base_uri": "https://localhost:8080/",
          "height": 85
        },
        "outputId": "82bfe7c1-03ec-4463-8659-a7a85e1f9caa"
      },
      "source": [
        "for i in range(4):\n",
        "  print(i)"
      ],
      "execution_count": null,
      "outputs": [
        {
          "output_type": "stream",
          "text": [
            "0\n",
            "1\n",
            "2\n",
            "3\n"
          ],
          "name": "stdout"
        }
      ]
    },
    {
      "cell_type": "markdown",
      "metadata": {
        "id": "seR1RsifQoiu"
      },
      "source": [
        "- If you specify two integers inside the parentheses withrange(), they're used for 'start' and 'stop,' and the default is used for 'step.' Example-"
      ]
    },
    {
      "cell_type": "code",
      "metadata": {
        "id": "MNzooFSsQVMb",
        "colab": {
          "base_uri": "https://localhost:8080/",
          "height": 85
        },
        "outputId": "42aca6cc-acea-4bcb-80c9-6439337cad4c"
      },
      "source": [
        "for i in range(2, 6):\n",
        "  print(i)"
      ],
      "execution_count": null,
      "outputs": [
        {
          "output_type": "stream",
          "text": [
            "2\n",
            "3\n",
            "4\n",
            "5\n"
          ],
          "name": "stdout"
        }
      ]
    },
    {
      "cell_type": "markdown",
      "metadata": {
        "id": "kEKyJFNZQtxM"
      },
      "source": [
        "\n",
        "- Or you can specify all three integers for 'start', 'stop', and 'step.' Example-"
      ]
    },
    {
      "cell_type": "code",
      "metadata": {
        "id": "l2Aztu8AQcue",
        "colab": {
          "base_uri": "https://localhost:8080/",
          "height": 102
        },
        "outputId": "19fc3eab-52ce-4c59-916a-de56b387cf9b"
      },
      "source": [
        "for i in range(1, 10, 2):\n",
        "  print(i)"
      ],
      "execution_count": null,
      "outputs": [
        {
          "output_type": "stream",
          "text": [
            "1\n",
            "3\n",
            "5\n",
            "7\n",
            "9\n"
          ],
          "name": "stdout"
        }
      ]
    },
    {
      "cell_type": "markdown",
      "metadata": {
        "id": "Cux22zs5VB60"
      },
      "source": [
        "### **Question:**\n",
        "Write a for loop below that will print out every whole number that is a multiple of 5 and less than or equal to 30."
      ]
    },
    {
      "cell_type": "code",
      "metadata": {
        "id": "tsrVr6kKTMuD",
        "colab": {
          "base_uri": "https://localhost:8080/",
          "height": 119
        },
        "outputId": "24f47265-5bce-489f-c601-73407b7971f8"
      },
      "source": [
        "# Write a for loop using range() to print out multiples of 5 up to 30 inclusive\n",
        "\n",
        "for i in range(5, 35, 5):\n",
        "    print(i)"
      ],
      "execution_count": null,
      "outputs": [
        {
          "output_type": "stream",
          "text": [
            "5\n",
            "10\n",
            "15\n",
            "20\n",
            "25\n",
            "30\n"
          ],
          "name": "stdout"
        }
      ]
    },
    {
      "cell_type": "markdown",
      "metadata": {
        "id": "grakoICBGtDU"
      },
      "source": [
        "### **Question:**\n",
        "Write a for loop that iterates over the names list to create a usernames list. To create a username for each name, make everything lowercase and replace spaces with underscores. Running your for loop over the list:\n",
        "```\n",
        "names = [\"Joey Tribbiani\", \"Monica Geller\", \"Chandler Bing\", \"Phoebe Buffay\"]\n",
        "```\n",
        "should create the list:\n",
        "\n",
        "```\n",
        "usernames = [\"joey_tribbiani\", \"monica_geller\", \"chandler_bing\", \"phoebe_buffay\"]\n",
        "```\n",
        "\n",
        "> HINT: Use the *.replace()* method to replace the spaces with underscores. Check out how to use this method in this [Stack Overflow answer](https://stackoverflow.com/questions/12723751/replacing-instances-of-a-character-in-a-string/12723785#12723785)."
      ]
    },
    {
      "cell_type": "code",
      "metadata": {
        "id": "zkGdiF3AVNKf"
      },
      "source": [
        "names = [\"Joey Tribbiani\", \"Monica Geller\", \"Chandler Bing\", \"Phoebe Buffay\"]\n",
        "usernames = []\n",
        "\n",
        "# write your for loop here\n",
        "\n",
        "\n",
        "print(usernames)"
      ],
      "execution_count": null,
      "outputs": []
    },
    {
      "cell_type": "markdown",
      "metadata": {
        "id": "8gQCnzE_HUBx"
      },
      "source": [
        "### **Question:**\n",
        "Write a for loop that iterates over a list of strings, tokens, and counts how many of them are XML tags. \n",
        "\n",
        "> XML is a data language similar to HTML. You can tell if a string is an XML tag if it begins with a left angle bracket \"<\" and ends with a right angle bracket \">\". \n",
        "\n",
        "Keep track of the number of tags using the variable count.\n",
        "\n",
        "You can assume that the list of strings will not contain empty strings."
      ]
    },
    {
      "cell_type": "code",
      "metadata": {
        "id": "ukZhXoydHnkw"
      },
      "source": [
        "tokens = ['<greeting>', 'Hello World!', '</greeting>']\n",
        "count = 0\n",
        "\n",
        "# write your for loop here\n",
        "\n",
        "\n",
        "print(count)"
      ],
      "execution_count": null,
      "outputs": []
    },
    {
      "cell_type": "markdown",
      "metadata": {
        "id": "hts0b-6HHsap"
      },
      "source": [
        "### **Question:**\n",
        "Write some code, including a for loop, that iterates over a list of strings and creates a single string, html_str, which is an HTML list. For example, if the list is items = ['first string', 'second string'], printing html_str should output:\n",
        "```\n",
        "<ul>\n",
        "<li>first string</li>\n",
        "<li>second string</li>\n",
        "</ul>\n",
        "```\n",
        "That is, the string's first line should be the opening tag ```<ul>```. Following that is one line per element in the source list, surrounded by ```<li>``` and ```</li>``` tags. The final line of the string should be the closing tag ```</ul>```."
      ]
    },
    {
      "cell_type": "code",
      "metadata": {
        "id": "AOKRbOG1H_JP"
      },
      "source": [
        "items = ['first string', 'second string']\n",
        "html_str = \"<ul>\\n\"  # \"\\ n\" is the character that marks the end of the line, it does\n",
        "                     # the characters that are after it in html_str are on the next line\n",
        "\n",
        "# write your code here\n",
        "\n",
        "\n",
        "print(html_str)"
      ],
      "execution_count": null,
      "outputs": []
    },
    {
      "cell_type": "markdown",
      "metadata": {
        "id": "L77tOmpwKFc9"
      },
      "source": [
        "## **While Loops:**\n",
        "For loops are an example of definite iteration, meaning that the loops body is run a predefined no of times. A for loop over a list executes the body for each element in the list, a for loop using the range function will execute a no of times specified by the range function.\n",
        "This deffer from indefinite iteration ie. when a loop repeats an unknown no of times, and ends when some condition is met.\n",
        "While loop is an example of indefinite iteration. Here is an example:\n"
      ]
    },
    {
      "cell_type": "code",
      "metadata": {
        "id": "It81d8ZoLSni"
      },
      "source": [
        "card_deck = [4, 11, 8, 5, 13, 2, 8, 10]\n",
        "hand = []\n",
        "\n",
        "# adds the last element of the card_deck list to the hand list\n",
        "# until the values in hand add up to 17 or more\n",
        "while sum(hand)  < 17:\n",
        "    hand.append(card_deck.pop())"
      ],
      "execution_count": null,
      "outputs": []
    },
    {
      "cell_type": "code",
      "metadata": {
        "id": "9KkqkudbLU6g",
        "colab": {
          "base_uri": "https://localhost:8080/",
          "height": 51
        },
        "outputId": "185d97e2-3fbc-4ea5-89ca-3fb4ca63be56"
      },
      "source": [
        "for card in hand:\n",
        "  print(card)"
      ],
      "execution_count": null,
      "outputs": [
        {
          "output_type": "stream",
          "text": [
            "10\n",
            "8\n"
          ],
          "name": "stdout"
        }
      ]
    },
    {
      "cell_type": "markdown",
      "metadata": {
        "id": "JwnTD36ZLqMs"
      },
      "source": [
        "This example features two new functions. sum returns the sum of the elements in a list, and pop is a list method that removes the last element from a list and returns it."
      ]
    },
    {
      "cell_type": "markdown",
      "metadata": {
        "id": "4jDhRwT2Lr-l"
      },
      "source": [
        "### **Components of a While Loop:**\n",
        "1. The first line starts with the while keyword, indicating this is a while loop.\n",
        "2. Following that is a condition to be checked. In this example, that's sum(hand) <= 17.\n",
        "3. The while loop heading always ends with a colon :.\n",
        "4. Indented after this heading is the body of the while loop. If the condition for the while loop is true, the code lines in the loop's body will be executed.\n",
        "5. We then go back to the while heading line, and the condition is evaluated again. This process of checking the condition and then executing the loop repeats until the condition becomes false.\n",
        "6. When the condition becomes false, we move on to the line following the body of the loop, which will be unindented.\n",
        "\n",
        "The indented body of the loop should modify at least one variable in the test condition. If the value of the test condition never changes, the result is an infinite loop!"
      ]
    },
    {
      "cell_type": "markdown",
      "metadata": {
        "id": "r_a96I8tMgJV"
      },
      "source": [
        "### **Question:**\n",
        "Find the factorial of a number using a while loop.\n",
        "\n",
        "A factorial of a whole number is that number multiplied by every whole number between itself and 1. For example, 6 factorial (written \"6!\") equals 6 x 5 x 4 x 3 x 2 x 1 = 720. So 6! = 720.\n",
        "\n",
        "We can write a while loop to take any given number and figure out what its factorial is.\n",
        "\n",
        "Example: If number is 6, your code should compute and print the product, 720."
      ]
    },
    {
      "cell_type": "code",
      "metadata": {
        "id": "r5ngmqZ0LjKu"
      },
      "source": [
        "# number to find the factorial of\n",
        "number = 6   \n",
        "\n",
        "# start with our product equal to one\n",
        "product = 1\n",
        "\n",
        "# track the current number being multiplied\n",
        "current = 1\n",
        "\n",
        "# write your while loop here\n",
        "\n",
        "    # multiply the product so far by the current number\n",
        "    \n",
        "    \n",
        "    # increment current with each iteration until it reaches number\n",
        "\n",
        "\n",
        "\n",
        "# print the factorial of number\n",
        "print(product)"
      ],
      "execution_count": null,
      "outputs": []
    },
    {
      "cell_type": "markdown",
      "metadata": {
        "id": "0ovry-I1Mw8u"
      },
      "source": [
        "### **Question:**\n",
        "Now use a for loop to find the factorial!\n",
        "\n",
        "It will now be great practice for you to try to revise the code you wrote above to find the factorial of a number, but this time, using a for loop. Try it in the code editor below!"
      ]
    },
    {
      "cell_type": "code",
      "metadata": {
        "id": "Su8VaSb5M1pH"
      },
      "source": [
        "# number to find the factorial of\n",
        "number = 6   \n",
        "\n",
        "# start with our product equal to one\n",
        "product = 1\n",
        "\n",
        "# write your for loop here\n",
        "\n",
        "\n",
        "\n",
        "# print the factorial of number\n",
        "print(product)"
      ],
      "execution_count": null,
      "outputs": []
    },
    {
      "cell_type": "markdown",
      "metadata": {
        "id": "mMEMlamnODYu"
      },
      "source": [
        "## **Question:**\n",
        "Suppose you want to count from some number start_num by another number count_by until you hit a final number end_num. Use break_num as the variable that you'll change each time through the loop. For simplicity, assume that end_num is always larger than start_num and count_by is always positive.\n",
        "<br>\n",
        "<br>\n",
        "\n",
        "Before the loop, what do you want to set break_num equal to? How do you want to change break_num each time through the loop? What condition will you use to see when it's time to stop looping?\n",
        "<br>\n",
        "<br>\n",
        "After the loop is done, print out break_num, showing the value that indicated it was time to stop looping. It is the case that break_num should be a number that is the first number larger than end_num.\n",
        "<br>\n",
        "<br>"
      ]
    },
    {
      "cell_type": "code",
      "metadata": {
        "id": "SIB04lNqOKUy"
      },
      "source": [
        "start_num = 5\n",
        "end_num = 30\n",
        "count_by = 3\n",
        "\n",
        "# write a while loop that uses break_num as the ongoing number to \n",
        "#   check against end_num\n",
        "\n",
        "\n",
        "print(break_num)"
      ],
      "execution_count": null,
      "outputs": []
    }
  ]
}